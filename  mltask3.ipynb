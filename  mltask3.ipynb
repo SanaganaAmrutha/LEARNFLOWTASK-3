{
 "cells": [
  {
   "cell_type": "code",
   "execution_count": null,
   "id": "184a496e-2703-4948-a196-89b78c0bf298",
   "metadata": {
    "tags": []
   },
   "outputs": [],
   "source": [
    "import speech_recognition as sr\n",
    "r = sr.Recognizer()\n",
    "with sr.Microphone() as source:\n",
    "    print(\"Speak Anything :\")\n",
    "    audio = r.listen(source)\n",
    "    try: \n",
    "        text = r.recognize_google(audio)\n",
    "        print(\"You said : {}\".format(text))\n",
    "    except Exception as e:\n",
    "        print(\"Sorry could not recognize what you said\")\n",
    " "
   ]
  },
  {
   "cell_type": "code",
   "execution_count": null,
   "id": "4570c6b3-1316-413f-9b25-c20dd189c5fe",
   "metadata": {
    "tags": []
   },
   "outputs": [],
   "source": [
    "pip install SpeechRecognition\n"
   ]
  },
  {
   "cell_type": "code",
   "execution_count": null,
   "id": "58a93193-68f4-4fd7-b06f-9f93d575871a",
   "metadata": {
    "tags": []
   },
   "outputs": [],
   "source": [
    "sudo apt-get update\n",
    "sudo apt-get install portaudio19-dev\n"
   ]
  },
  {
   "cell_type": "code",
   "execution_count": null,
   "id": "c243bf42-0098-41e2-99af-0045155874c6",
   "metadata": {
    "tags": []
   },
   "outputs": [],
   "source": [
    "sudo apt-get update\n",
    "sudo apt-get install portaudio19-dev\n"
   ]
  },
  {
   "cell_type": "code",
   "execution_count": null,
   "id": "648d7b08-4229-4e29-b25b-d9ce41ecf4db",
   "metadata": {
    "tags": []
   },
   "outputs": [],
   "source": [
    "pip install pyaudio\n"
   ]
  },
  {
   "cell_type": "code",
   "execution_count": 12,
   "id": "25e2538e-1936-44c5-9f61-0aac28ad0c95",
   "metadata": {
    "tags": []
   },
   "outputs": [
    {
     "name": "stdout",
     "output_type": "stream",
     "text": [
      "Requirement already satisfied: numpy in ./anaconda3/lib/python3.11/site-packages (1.24.3)\n",
      "Requirement already satisfied: pandas in ./anaconda3/lib/python3.11/site-packages (2.0.3)\n",
      "Requirement already satisfied: librosa in ./anaconda3/lib/python3.11/site-packages (0.10.2.post1)\n",
      "Requirement already satisfied: scikit-learn in ./anaconda3/lib/python3.11/site-packages (1.3.0)\n",
      "Requirement already satisfied: python-dateutil>=2.8.2 in ./anaconda3/lib/python3.11/site-packages (from pandas) (2.8.2)\n",
      "Requirement already satisfied: pytz>=2020.1 in ./anaconda3/lib/python3.11/site-packages (from pandas) (2023.3.post1)\n",
      "Requirement already satisfied: tzdata>=2022.1 in ./anaconda3/lib/python3.11/site-packages (from pandas) (2023.3)\n",
      "Requirement already satisfied: audioread>=2.1.9 in ./anaconda3/lib/python3.11/site-packages (from librosa) (3.0.1)\n",
      "Requirement already satisfied: scipy>=1.2.0 in ./anaconda3/lib/python3.11/site-packages (from librosa) (1.11.1)\n",
      "Requirement already satisfied: joblib>=0.14 in ./anaconda3/lib/python3.11/site-packages (from librosa) (1.2.0)\n",
      "Requirement already satisfied: decorator>=4.3.0 in ./anaconda3/lib/python3.11/site-packages (from librosa) (4.4.2)\n",
      "Requirement already satisfied: numba>=0.51.0 in ./anaconda3/lib/python3.11/site-packages (from librosa) (0.57.1)\n",
      "Requirement already satisfied: soundfile>=0.12.1 in ./anaconda3/lib/python3.11/site-packages (from librosa) (0.12.1)\n",
      "Requirement already satisfied: pooch>=1.1 in ./anaconda3/lib/python3.11/site-packages (from librosa) (1.8.2)\n",
      "Requirement already satisfied: soxr>=0.3.2 in ./anaconda3/lib/python3.11/site-packages (from librosa) (0.4.0)\n",
      "Requirement already satisfied: typing-extensions>=4.1.1 in ./anaconda3/lib/python3.11/site-packages (from librosa) (4.7.1)\n",
      "Requirement already satisfied: lazy-loader>=0.1 in ./anaconda3/lib/python3.11/site-packages (from librosa) (0.2)\n",
      "Requirement already satisfied: msgpack>=1.0 in ./anaconda3/lib/python3.11/site-packages (from librosa) (1.0.3)\n",
      "Requirement already satisfied: threadpoolctl>=2.0.0 in ./anaconda3/lib/python3.11/site-packages (from scikit-learn) (2.2.0)\n",
      "Requirement already satisfied: llvmlite<0.41,>=0.40.0dev0 in ./anaconda3/lib/python3.11/site-packages (from numba>=0.51.0->librosa) (0.40.0)\n",
      "Requirement already satisfied: platformdirs>=2.5.0 in ./anaconda3/lib/python3.11/site-packages (from pooch>=1.1->librosa) (3.10.0)\n",
      "Requirement already satisfied: packaging>=20.0 in ./anaconda3/lib/python3.11/site-packages (from pooch>=1.1->librosa) (23.1)\n",
      "Requirement already satisfied: requests>=2.19.0 in ./anaconda3/lib/python3.11/site-packages (from pooch>=1.1->librosa) (2.31.0)\n",
      "Requirement already satisfied: six>=1.5 in ./anaconda3/lib/python3.11/site-packages (from python-dateutil>=2.8.2->pandas) (1.16.0)\n",
      "Requirement already satisfied: cffi>=1.0 in ./anaconda3/lib/python3.11/site-packages (from soundfile>=0.12.1->librosa) (1.15.1)\n",
      "Requirement already satisfied: pycparser in ./anaconda3/lib/python3.11/site-packages (from cffi>=1.0->soundfile>=0.12.1->librosa) (2.21)\n",
      "Requirement already satisfied: charset-normalizer<4,>=2 in ./anaconda3/lib/python3.11/site-packages (from requests>=2.19.0->pooch>=1.1->librosa) (2.0.4)\n",
      "Requirement already satisfied: idna<4,>=2.5 in ./anaconda3/lib/python3.11/site-packages (from requests>=2.19.0->pooch>=1.1->librosa) (3.4)\n",
      "Requirement already satisfied: urllib3<3,>=1.21.1 in ./anaconda3/lib/python3.11/site-packages (from requests>=2.19.0->pooch>=1.1->librosa) (1.26.16)\n",
      "Requirement already satisfied: certifi>=2017.4.17 in ./anaconda3/lib/python3.11/site-packages (from requests>=2.19.0->pooch>=1.1->librosa) (2024.7.4)\n",
      "Note: you may need to restart the kernel to use updated packages.\n"
     ]
    }
   ],
   "source": [
    "pip install numpy pandas librosa scikit-learn\n"
   ]
  },
  {
   "cell_type": "code",
   "execution_count": 13,
   "id": "a4c2d59d-1136-42e7-a31f-dbeb211c2de8",
   "metadata": {
    "tags": []
   },
   "outputs": [],
   "source": [
    "import pandas as pd\n",
    "from sklearn.feature_extraction.text import TfidfVectorizer\n",
    "from sklearn.model_selection import train_test_split\n",
    "from sklearn.naive_bayes import MultinomialNB\n",
    "from sklearn.metrics import accuracy_score, classification_report\n",
    "import speech_recognition as sr\n",
    "import re\n",
    "from sklearn.utils.class_weight import compute_class_weight\n"
   ]
  },
  {
   "cell_type": "code",
   "execution_count": 24,
   "id": "73c6b0db-ae5c-4aea-9424-8ce13b4629c8",
   "metadata": {
    "tags": []
   },
   "outputs": [],
   "source": [
    "\n",
    "file_path = '/home/amrtutha/Downloads/ML task 3(4)/dataset/metadata.csv'\n",
    "data = pd.read_csv(file_path)\n"
   ]
  },
  {
   "cell_type": "code",
   "execution_count": 25,
   "id": "10734810-034f-4554-87bc-659eda66d0fb",
   "metadata": {
    "tags": []
   },
   "outputs": [],
   "source": [
    "\n",
    "def transcribe_audio(file_path):\n",
    "    recognizer = sr.Recognizer()\n",
    "    try:\n",
    "        with sr.AudioFile(file_path) as source:\n",
    "            audio = recognizer.record(source)\n",
    "        return recognizer.recognize_google(audio)\n",
    "    except sr.UnknownValueError:\n",
    "        return \"\"\n",
    "    except sr.RequestError:\n",
    "        return \"\"\n"
   ]
  },
  {
   "cell_type": "code",
   "execution_count": 26,
   "id": "3ad62981-5bb5-4eb2-96c9-eba64cc766b9",
   "metadata": {
    "tags": []
   },
   "outputs": [
    {
     "name": "stdout",
     "output_type": "stream",
     "text": [
      "                                                path           speaker  \\\n",
      "0  dataset/audio/speakers/2BqVo8kVB2Skwgyb/0a3129...  2BqVo8kVB2Skwgyb   \n",
      "1  dataset/audio/speakers/2BqVo8kVB2Skwgyb/0ee42a...  2BqVo8kVB2Skwgyb   \n",
      "2  dataset/audio/speakers/2BqVo8kVB2Skwgyb/1d9f39...  2BqVo8kVB2Skwgyb   \n",
      "3  dataset/audio/speakers/2BqVo8kVB2Skwgyb/269fc2...  2BqVo8kVB2Skwgyb   \n",
      "4  dataset/audio/speakers/2BqVo8kVB2Skwgyb/5bbda3...  2BqVo8kVB2Skwgyb   \n",
      "\n",
      "            action  object fluency_level         current_language  gender  \\\n",
      "0  change language    none      advanced  English (United States)  female   \n",
      "1         activate   music      advanced  English (United States)  female   \n",
      "2       deactivate  lights      advanced  English (United States)  female   \n",
      "3         increase  volume      advanced  English (United States)  female   \n",
      "4         increase  volume      advanced  English (United States)  female   \n",
      "\n",
      "  age_range  \n",
      "0     22-40  \n",
      "1     22-40  \n",
      "2     22-40  \n",
      "3     22-40  \n",
      "4     22-40  \n"
     ]
    }
   ],
   "source": [
    "\n",
    "print(data.head())\n"
   ]
  },
  {
   "cell_type": "code",
   "execution_count": 27,
   "id": "a12399ce-ce21-4683-9a44-e08f1d2cf4e3",
   "metadata": {
    "tags": []
   },
   "outputs": [],
   "source": [
    "\n",
    "def preprocess_text(text):\n",
    "    text = text.lower()  \n",
    "    text = re.sub(r'\\s+', ' ', text)  \n",
    "    text = re.sub(r'\\d+', '', text)  \n",
    "    text = re.sub(r'[^\\w\\s]', '', text) \n",
    "    return text\n"
   ]
  },
  {
   "cell_type": "code",
   "execution_count": 28,
   "id": "fecd4c02-1aae-4931-9101-428de8050f30",
   "metadata": {
    "tags": []
   },
   "outputs": [],
   "source": [
    "texts = data['path']\n",
    "labels = data['action']\n",
    "X_train, X_test, y_train, y_test = train_test_split(texts, labels, test_size=0.2, random_state=42)\n"
   ]
  },
  {
   "cell_type": "code",
   "execution_count": 29,
   "id": "71b15963-e996-4239-8570-3ebf435d250d",
   "metadata": {
    "tags": []
   },
   "outputs": [],
   "source": [
    " \n",
    "vectorizer = TfidfVectorizer(max_features=5000, ngram_range=(1, 2)) \n",
    "X_train_tfidf = vectorizer.fit_transform(X_train)\n",
    "X_test_tfidf = vectorizer.transform(X_test)\n"
   ]
  },
  {
   "cell_type": "code",
   "execution_count": 30,
   "id": "0c79b74b-fe2d-4ea9-b3a0-e02b7c60a51e",
   "metadata": {
    "tags": []
   },
   "outputs": [],
   "source": [
    "\n",
    "class_weights = compute_class_weight('balanced', classes=labels.unique(), y=labels)\n",
    "class_weight_dict = dict(zip(labels.unique(), class_weights))\n"
   ]
  },
  {
   "cell_type": "code",
   "execution_count": 31,
   "id": "4accc256-75da-422d-9045-afdabc05da72",
   "metadata": {
    "tags": []
   },
   "outputs": [
    {
     "data": {
      "text/html": [
       "<style>#sk-container-id-2 {color: black;}#sk-container-id-2 pre{padding: 0;}#sk-container-id-2 div.sk-toggleable {background-color: white;}#sk-container-id-2 label.sk-toggleable__label {cursor: pointer;display: block;width: 100%;margin-bottom: 0;padding: 0.3em;box-sizing: border-box;text-align: center;}#sk-container-id-2 label.sk-toggleable__label-arrow:before {content: \"▸\";float: left;margin-right: 0.25em;color: #696969;}#sk-container-id-2 label.sk-toggleable__label-arrow:hover:before {color: black;}#sk-container-id-2 div.sk-estimator:hover label.sk-toggleable__label-arrow:before {color: black;}#sk-container-id-2 div.sk-toggleable__content {max-height: 0;max-width: 0;overflow: hidden;text-align: left;background-color: #f0f8ff;}#sk-container-id-2 div.sk-toggleable__content pre {margin: 0.2em;color: black;border-radius: 0.25em;background-color: #f0f8ff;}#sk-container-id-2 input.sk-toggleable__control:checked~div.sk-toggleable__content {max-height: 200px;max-width: 100%;overflow: auto;}#sk-container-id-2 input.sk-toggleable__control:checked~label.sk-toggleable__label-arrow:before {content: \"▾\";}#sk-container-id-2 div.sk-estimator input.sk-toggleable__control:checked~label.sk-toggleable__label {background-color: #d4ebff;}#sk-container-id-2 div.sk-label input.sk-toggleable__control:checked~label.sk-toggleable__label {background-color: #d4ebff;}#sk-container-id-2 input.sk-hidden--visually {border: 0;clip: rect(1px 1px 1px 1px);clip: rect(1px, 1px, 1px, 1px);height: 1px;margin: -1px;overflow: hidden;padding: 0;position: absolute;width: 1px;}#sk-container-id-2 div.sk-estimator {font-family: monospace;background-color: #f0f8ff;border: 1px dotted black;border-radius: 0.25em;box-sizing: border-box;margin-bottom: 0.5em;}#sk-container-id-2 div.sk-estimator:hover {background-color: #d4ebff;}#sk-container-id-2 div.sk-parallel-item::after {content: \"\";width: 100%;border-bottom: 1px solid gray;flex-grow: 1;}#sk-container-id-2 div.sk-label:hover label.sk-toggleable__label {background-color: #d4ebff;}#sk-container-id-2 div.sk-serial::before {content: \"\";position: absolute;border-left: 1px solid gray;box-sizing: border-box;top: 0;bottom: 0;left: 50%;z-index: 0;}#sk-container-id-2 div.sk-serial {display: flex;flex-direction: column;align-items: center;background-color: white;padding-right: 0.2em;padding-left: 0.2em;position: relative;}#sk-container-id-2 div.sk-item {position: relative;z-index: 1;}#sk-container-id-2 div.sk-parallel {display: flex;align-items: stretch;justify-content: center;background-color: white;position: relative;}#sk-container-id-2 div.sk-item::before, #sk-container-id-2 div.sk-parallel-item::before {content: \"\";position: absolute;border-left: 1px solid gray;box-sizing: border-box;top: 0;bottom: 0;left: 50%;z-index: -1;}#sk-container-id-2 div.sk-parallel-item {display: flex;flex-direction: column;z-index: 1;position: relative;background-color: white;}#sk-container-id-2 div.sk-parallel-item:first-child::after {align-self: flex-end;width: 50%;}#sk-container-id-2 div.sk-parallel-item:last-child::after {align-self: flex-start;width: 50%;}#sk-container-id-2 div.sk-parallel-item:only-child::after {width: 0;}#sk-container-id-2 div.sk-dashed-wrapped {border: 1px dashed gray;margin: 0 0.4em 0.5em 0.4em;box-sizing: border-box;padding-bottom: 0.4em;background-color: white;}#sk-container-id-2 div.sk-label label {font-family: monospace;font-weight: bold;display: inline-block;line-height: 1.2em;}#sk-container-id-2 div.sk-label-container {text-align: center;}#sk-container-id-2 div.sk-container {/* jupyter's `normalize.less` sets `[hidden] { display: none; }` but bootstrap.min.css set `[hidden] { display: none !important; }` so we also need the `!important` here to be able to override the default hidden behavior on the sphinx rendered scikit-learn.org. See: https://github.com/scikit-learn/scikit-learn/issues/21755 */display: inline-block !important;position: relative;}#sk-container-id-2 div.sk-text-repr-fallback {display: none;}</style><div id=\"sk-container-id-2\" class=\"sk-top-container\"><div class=\"sk-text-repr-fallback\"><pre>MultinomialNB(class_prior=[1.7707097933513027, 2.4915297092288244,\n",
       "                           3.5702898550724638, 0.5155113784985613,\n",
       "                           0.5512727272727272])</pre><b>In a Jupyter environment, please rerun this cell to show the HTML representation or trust the notebook. <br />On GitHub, the HTML representation is unable to render, please try loading this page with nbviewer.org.</b></div><div class=\"sk-container\" hidden><div class=\"sk-item\"><div class=\"sk-estimator sk-toggleable\"><input class=\"sk-toggleable__control sk-hidden--visually\" id=\"sk-estimator-id-2\" type=\"checkbox\" checked><label for=\"sk-estimator-id-2\" class=\"sk-toggleable__label sk-toggleable__label-arrow\">MultinomialNB</label><div class=\"sk-toggleable__content\"><pre>MultinomialNB(class_prior=[1.7707097933513027, 2.4915297092288244,\n",
       "                           3.5702898550724638, 0.5155113784985613,\n",
       "                           0.5512727272727272])</pre></div></div></div></div></div>"
      ],
      "text/plain": [
       "MultinomialNB(class_prior=[1.7707097933513027, 2.4915297092288244,\n",
       "                           3.5702898550724638, 0.5155113784985613,\n",
       "                           0.5512727272727272])"
      ]
     },
     "execution_count": 31,
     "metadata": {},
     "output_type": "execute_result"
    }
   ],
   "source": [
    "\n",
    "model = MultinomialNB(class_prior=[class_weight_dict.get(label, 1) for label in labels.unique()])\n",
    "model.fit(X_train_tfidf, y_train)\n"
   ]
  },
  {
   "cell_type": "code",
   "execution_count": 22,
   "id": "65a31859-44e7-4706-8752-c6814c781ec8",
   "metadata": {
    "tags": []
   },
   "outputs": [],
   "source": [
    " \n",
    "y_pred = model.predict(X_test_tfidf)\n",
    "\n",
    "accuracy = accuracy_score(y_test, y_pred)\n",
    "report = classification_report(y_test, y_pred, zero_division=1) \n"
   ]
  },
  {
   "cell_type": "code",
   "execution_count": 23,
   "id": "b1471e85-ebc6-42cd-9d2e-c795d7686010",
   "metadata": {
    "tags": []
   },
   "outputs": [
    {
     "name": "stdout",
     "output_type": "stream",
     "text": [
      "Accuracy: 0.42\n",
      "Classification Report:\n",
      "                  precision    recall  f1-score   support\n",
      "\n",
      "       activate       0.13      0.02      0.03       162\n",
      "change language       0.32      0.78      0.45       225\n",
      "     deactivate       0.14      0.11      0.12       118\n",
      "       decrease       0.48      0.24      0.32       690\n",
      "       increase       0.49      0.60      0.54       776\n",
      "\n",
      "       accuracy                           0.42      1971\n",
      "      macro avg       0.31      0.35      0.29      1971\n",
      "   weighted avg       0.41      0.42      0.38      1971\n",
      "\n"
     ]
    }
   ],
   "source": [
    "\n",
    "print(f'Accuracy: {accuracy:.2f}')\n",
    "print('Classification Report:\\n', report)\n"
   ]
  },
  {
   "cell_type": "code",
   "execution_count": null,
   "id": "2c79cf7b-db5d-4ce2-9286-44e2fbbfc9e3",
   "metadata": {},
   "outputs": [],
   "source": []
  }
 ],
 "metadata": {
  "kernelspec": {
   "display_name": "Python 3 (ipykernel)",
   "language": "python",
   "name": "python3"
  },
  "language_info": {
   "codemirror_mode": {
    "name": "ipython",
    "version": 3
   },
   "file_extension": ".py",
   "mimetype": "text/x-python",
   "name": "python",
   "nbconvert_exporter": "python",
   "pygments_lexer": "ipython3",
   "version": "3.11.5"
  },
  "toc-showcode": false
 },
 "nbformat": 4,
 "nbformat_minor": 5
}
